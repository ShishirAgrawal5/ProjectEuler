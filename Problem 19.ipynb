{
 "cells": [
  {
   "cell_type": "code",
   "execution_count": null,
   "metadata": {},
   "outputs": [],
   "source": [
    "#Problem 19 Counting Sundays"
   ]
  },
  {
   "cell_type": "code",
   "execution_count": 48,
   "metadata": {},
   "outputs": [],
   "source": [
    "import numpy as np\n",
    "import pandas as pd"
   ]
  },
  {
   "cell_type": "code",
   "execution_count": 226,
   "metadata": {},
   "outputs": [],
   "source": [
    "start = 1900\n",
    "end = 2000\n",
    "count = 0\n",
    "dates = []\n",
    "leapYear = []\n",
    "for i in range (start, end+1):\n",
    "    count = count + 365\n",
    "    if i%400 == 0:\n",
    "        count = count + 1\n",
    "        leapYear.append(i)\n",
    "    elif i%4 == 0 and i%100 != 0:\n",
    "        count = count + 1\n",
    "        leapYear.append(i)"
   ]
  },
  {
   "cell_type": "code",
   "execution_count": 227,
   "metadata": {},
   "outputs": [],
   "source": [
    "for i in range (1,count+1):\n",
    "    dates.append(i)"
   ]
  },
  {
   "cell_type": "code",
   "execution_count": 228,
   "metadata": {},
   "outputs": [],
   "source": [
    "date = pd.DataFrame()"
   ]
  },
  {
   "cell_type": "code",
   "execution_count": 229,
   "metadata": {},
   "outputs": [],
   "source": [
    "date['Date'] = dates"
   ]
  },
  {
   "cell_type": "code",
   "execution_count": 230,
   "metadata": {},
   "outputs": [],
   "source": [
    "days = ['Mon', 'Tue', 'Wed','Thur','Fri', 'Sat','Sun']"
   ]
  },
  {
   "cell_type": "code",
   "execution_count": 231,
   "metadata": {},
   "outputs": [],
   "source": [
    "numberOfWeeks = int((count)/7)"
   ]
  },
  {
   "cell_type": "code",
   "execution_count": 232,
   "metadata": {},
   "outputs": [],
   "source": [
    "remainingDays = int(count%7)"
   ]
  },
  {
   "cell_type": "code",
   "execution_count": 233,
   "metadata": {},
   "outputs": [],
   "source": [
    "daysTotal = days * numberOfWeeks"
   ]
  },
  {
   "cell_type": "code",
   "execution_count": 234,
   "metadata": {},
   "outputs": [],
   "source": [
    "remainingDays = days[:remainingDays]"
   ]
  },
  {
   "cell_type": "code",
   "execution_count": 235,
   "metadata": {},
   "outputs": [],
   "source": [
    "if remainingDays:\n",
    "    daysTotal.append(remainingDays)"
   ]
  },
  {
   "cell_type": "code",
   "execution_count": 236,
   "metadata": {},
   "outputs": [],
   "source": [
    "date['Days'] = daysTotal"
   ]
  },
  {
   "cell_type": "code",
   "execution_count": 237,
   "metadata": {},
   "outputs": [],
   "source": [
    "year = []\n",
    "for i in range (start, end+1):\n",
    "    if i in leapYear:\n",
    "        year.extend([i for j in range(1,367)])\n",
    "    else:\n",
    "        year.extend([i for j in range(1,366)])"
   ]
  },
  {
   "cell_type": "code",
   "execution_count": 238,
   "metadata": {},
   "outputs": [],
   "source": [
    "date['Year'] = year"
   ]
  },
  {
   "cell_type": "code",
   "execution_count": 239,
   "metadata": {},
   "outputs": [],
   "source": [
    "#date.to_excel(r'/Users/shishiragrawal/Downloads/test234.xlsx')"
   ]
  },
  {
   "cell_type": "code",
   "execution_count": 240,
   "metadata": {},
   "outputs": [],
   "source": [
    "month = []\n",
    "for x in range(start, end+1):\n",
    "    month.extend(j for j in range(1,32))\n",
    "    if x in leapYear:\n",
    "        month.extend(j for j in range(1,30))\n",
    "    else :\n",
    "        month.extend(j for j in range(1,29))\n",
    "    month.extend(j for j in range(1,32))\n",
    "    month.extend(j for j in range(1,31))\n",
    "    month.extend(j for j in range(1,32))\n",
    "    month.extend(j for j in range(1,31))\n",
    "    month.extend(j for j in range(1,32))\n",
    "    month.extend(j for j in range(1,32))\n",
    "    month.extend(j for j in range(1,31))\n",
    "    month.extend(j for j in range(1,32))\n",
    "    month.extend(j for j in range(1,31))\n",
    "    month.extend(j for j in range(1,32))\n",
    "    "
   ]
  },
  {
   "cell_type": "code",
   "execution_count": 241,
   "metadata": {},
   "outputs": [],
   "source": [
    "date['Month'] = month"
   ]
  },
  {
   "cell_type": "code",
   "execution_count": 242,
   "metadata": {},
   "outputs": [],
   "source": [
    "date = date[date['Year'] > 1900]"
   ]
  },
  {
   "cell_type": "code",
   "execution_count": 247,
   "metadata": {},
   "outputs": [],
   "source": [
    "final = date[date.Days == 'Sun']"
   ]
  },
  {
   "cell_type": "code",
   "execution_count": 249,
   "metadata": {},
   "outputs": [],
   "source": [
    "final2 = final[final.Month == 1]"
   ]
  },
  {
   "cell_type": "code",
   "execution_count": 253,
   "metadata": {},
   "outputs": [
    {
     "data": {
      "text/plain": [
       "(171, 4)"
      ]
     },
     "execution_count": 253,
     "metadata": {},
     "output_type": "execute_result"
    }
   ],
   "source": [
    "final2.shape"
   ]
  },
  {
   "cell_type": "code",
   "execution_count": null,
   "metadata": {},
   "outputs": [],
   "source": []
  }
 ],
 "metadata": {
  "kernelspec": {
   "display_name": "Python 3",
   "language": "python",
   "name": "python3"
  },
  "language_info": {
   "codemirror_mode": {
    "name": "ipython",
    "version": 3
   },
   "file_extension": ".py",
   "mimetype": "text/x-python",
   "name": "python",
   "nbconvert_exporter": "python",
   "pygments_lexer": "ipython3",
   "version": "3.6.8"
  }
 },
 "nbformat": 4,
 "nbformat_minor": 2
}
