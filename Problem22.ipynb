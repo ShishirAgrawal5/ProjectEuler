{
 "cells": [
  {
   "cell_type": "code",
   "execution_count": 75,
   "id": "c4f9c4ac",
   "metadata": {},
   "outputs": [],
   "source": [
    "import pandas\n",
    "import re"
   ]
  },
  {
   "cell_type": "code",
   "execution_count": 76,
   "id": "a556be45",
   "metadata": {},
   "outputs": [],
   "source": [
    "file = open(r\"NamesProblem22.txt\",\"r\")\n",
    "x = file.read()\n",
    "file.close()"
   ]
  },
  {
   "cell_type": "code",
   "execution_count": 77,
   "id": "40a3fe33",
   "metadata": {},
   "outputs": [],
   "source": [
    "alphabets = ['A','B','C','D','E','F','G','H','I','J','K','L','M','N','O','P','Q','R','S','T','U','V','W','X','Y','Z']\n",
    "numbers = [1,2,3,4,5,6,7,8,9,10,11,12,13,14,15,16,17,18,19,20,21,22,23,24,25,26]"
   ]
  },
  {
   "cell_type": "code",
   "execution_count": 78,
   "id": "6af94e36",
   "metadata": {},
   "outputs": [],
   "source": [
    "AlpToNumDict = {i:j for i,j in zip(alphabets,numbers)}"
   ]
  },
  {
   "cell_type": "code",
   "execution_count": 79,
   "id": "41608e80",
   "metadata": {},
   "outputs": [],
   "source": [
    "a=[]\n",
    "for i in re.finditer('([a-zA-Z]+)', x):\n",
    "    a.append(i.group())\n",
    "a.sort()"
   ]
  },
  {
   "cell_type": "code",
   "execution_count": 86,
   "id": "df6472b7",
   "metadata": {},
   "outputs": [],
   "source": [
    "totalProduct = 0\n",
    "count = 1\n",
    "for i in a:\n",
    "    sumA = 0\n",
    "    product = 0\n",
    "    for j in i:\n",
    "        sumA = sumA + AlpToNumDict[j]\n",
    "    product = sumA * count\n",
    "    count = count + 1\n",
    "    totalProduct = totalProduct + product"
   ]
  },
  {
   "cell_type": "code",
   "execution_count": 87,
   "id": "1b883171",
   "metadata": {},
   "outputs": [
    {
     "data": {
      "text/plain": [
       "871198282"
      ]
     },
     "execution_count": 87,
     "metadata": {},
     "output_type": "execute_result"
    }
   ],
   "source": [
    "totalProduct"
   ]
  }
 ],
 "metadata": {
  "kernelspec": {
   "display_name": "Python 3 (ipykernel)",
   "language": "python",
   "name": "python3"
  },
  "language_info": {
   "codemirror_mode": {
    "name": "ipython",
    "version": 3
   },
   "file_extension": ".py",
   "mimetype": "text/x-python",
   "name": "python",
   "nbconvert_exporter": "python",
   "pygments_lexer": "ipython3",
   "version": "3.9.6"
  }
 },
 "nbformat": 4,
 "nbformat_minor": 5
}
