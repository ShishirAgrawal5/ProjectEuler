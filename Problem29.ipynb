{
 "cells": [
  {
   "cell_type": "code",
   "execution_count": 1,
   "id": "dad6ee44",
   "metadata": {},
   "outputs": [],
   "source": [
    "def calcPower(low, high):\n",
    "    for i in range (low, high+1):\n",
    "        for j in range (low, high+1):\n",
    "            x = pow(i,j)\n",
    "            yield x"
   ]
  },
  {
   "cell_type": "code",
   "execution_count": 2,
   "id": "a91c9300",
   "metadata": {},
   "outputs": [],
   "source": [
    "low = 2\n",
    "high = 100\n",
    "distinct = set(calcPower(low, high))"
   ]
  },
  {
   "cell_type": "code",
   "execution_count": 4,
   "id": "9095756e",
   "metadata": {},
   "outputs": [
    {
     "data": {
      "text/plain": [
       "9183"
      ]
     },
     "execution_count": 4,
     "metadata": {},
     "output_type": "execute_result"
    }
   ],
   "source": [
    "len(distinct)"
   ]
  }
 ],
 "metadata": {
  "kernelspec": {
   "display_name": "Python 3 (ipykernel)",
   "language": "python",
   "name": "python3"
  },
  "language_info": {
   "codemirror_mode": {
    "name": "ipython",
    "version": 3
   },
   "file_extension": ".py",
   "mimetype": "text/x-python",
   "name": "python",
   "nbconvert_exporter": "python",
   "pygments_lexer": "ipython3",
   "version": "3.9.6"
  }
 },
 "nbformat": 4,
 "nbformat_minor": 5
}
