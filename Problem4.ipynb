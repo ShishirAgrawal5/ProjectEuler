{
 "cells": [
  {
   "cell_type": "code",
   "execution_count": 4,
   "metadata": {},
   "outputs": [],
   "source": [
    "#Problem 4 Largest palindrome product"
   ]
  },
  {
   "cell_type": "code",
   "execution_count": 13,
   "metadata": {},
   "outputs": [
    {
     "name": "stdout",
     "output_type": "stream",
     "text": [
      "906609\n"
     ]
    }
   ],
   "source": [
    "largest_palindrome = []\n",
    "for i in range (100,999,1):\n",
    "    for j in range(100,999,1):\n",
    "        product = i*j\n",
    "        rev = 0\n",
    "        product2= product\n",
    "        while(product2>0):\n",
    "            digit=product2%10\n",
    "            rev=rev*10+digit\n",
    "            product2=product2//10\n",
    "        if product == rev:\n",
    "            largest_palindrome.append(product)\n",
    "        else :\n",
    "            continue\n",
    "c=max(largest_palindrome)\n",
    "print(c)"
   ]
  },
  {
   "cell_type": "code",
   "execution_count": null,
   "metadata": {},
   "outputs": [],
   "source": []
  }
 ],
 "metadata": {
  "kernelspec": {
   "display_name": "Python 3",
   "language": "python",
   "name": "python3"
  },
  "language_info": {
   "codemirror_mode": {
    "name": "ipython",
    "version": 3
   },
   "file_extension": ".py",
   "mimetype": "text/x-python",
   "name": "python",
   "nbconvert_exporter": "python",
   "pygments_lexer": "ipython3",
   "version": "3.7.0"
  }
 },
 "nbformat": 4,
 "nbformat_minor": 2
}
