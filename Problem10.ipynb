{
 "cells": [
  {
   "cell_type": "code",
   "execution_count": 1,
   "metadata": {},
   "outputs": [],
   "source": [
    "#Problem9 Summation of primes"
   ]
  },
  {
   "cell_type": "code",
   "execution_count": 5,
   "metadata": {},
   "outputs": [
    {
     "name": "stdout",
     "output_type": "stream",
     "text": [
      "142913828922\n"
     ]
    }
   ],
   "source": [
    "# number to find summation of all primes below number\n",
    "hi = 2000000\n",
    "\n",
    "# create a set excluding even numbers\n",
    "numbers = set(range(3, hi + 1, 2))\n",
    "for number in range(3, int(hi ** 0.5) + 1):\n",
    "    if number not in numbers:\n",
    "        #number must have been removed because it has a prime factor\n",
    "        \n",
    "        continue\n",
    "    \n",
    "    num = number\n",
    "    while num < hi:\n",
    "        num += number\n",
    "        if num in numbers:\n",
    "            # Remove multiples of prime found\n",
    "            numbers.remove(num)\n",
    "\n",
    "print (2 + sum(numbers))"
   ]
  },
  {
   "cell_type": "code",
   "execution_count": 7,
   "metadata": {},
   "outputs": [
    {
     "name": "stdout",
     "output_type": "stream",
     "text": [
      "2\n",
      "3\n"
     ]
    }
   ],
   "source": [
    "for i in range (2,4):\n",
    "    print(i)"
   ]
  },
  {
   "cell_type": "code",
   "execution_count": null,
   "metadata": {},
   "outputs": [],
   "source": []
  }
 ],
 "metadata": {
  "kernelspec": {
   "display_name": "Python 3",
   "language": "python",
   "name": "python3"
  },
  "language_info": {
   "codemirror_mode": {
    "name": "ipython",
    "version": 3
   },
   "file_extension": ".py",
   "mimetype": "text/x-python",
   "name": "python",
   "nbconvert_exporter": "python",
   "pygments_lexer": "ipython3",
   "version": "3.6.8"
  }
 },
 "nbformat": 4,
 "nbformat_minor": 2
}
