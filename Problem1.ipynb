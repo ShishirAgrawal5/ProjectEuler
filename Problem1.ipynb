{
 "cells": [
  {
   "cell_type": "code",
   "execution_count": 1,
   "metadata": {},
   "outputs": [],
   "source": [
    "#Problem1 - Multiples of 3 and 5"
   ]
  },
  {
   "cell_type": "code",
   "execution_count": 21,
   "metadata": {},
   "outputs": [
    {
     "data": {
      "text/plain": [
       "233168"
      ]
     },
     "execution_count": 21,
     "metadata": {},
     "output_type": "execute_result"
    }
   ],
   "source": [
    "a = []\n",
    "for i in range(1,1000):\n",
    "    if i%3 == 0:\n",
    "        a.append(i)\n",
    "    else:\n",
    "        continue\n",
    "        \n",
    "three = set(a)\n",
    "\n",
    "b = []\n",
    "for i in range(1,1000):\n",
    "    if i%5 == 0:\n",
    "        b.append(i)\n",
    "    else:\n",
    "        continue\n",
    "        \n",
    "five = set(b)\n",
    "\n",
    "f = three|five\n",
    "sum(f)"
   ]
  },
  {
   "cell_type": "code",
   "execution_count": null,
   "metadata": {},
   "outputs": [],
   "source": []
  }
 ],
 "metadata": {
  "kernelspec": {
   "display_name": "Python 3",
   "language": "python",
   "name": "python3"
  },
  "language_info": {
   "codemirror_mode": {
    "name": "ipython",
    "version": 3
   },
   "file_extension": ".py",
   "mimetype": "text/x-python",
   "name": "python",
   "nbconvert_exporter": "python",
   "pygments_lexer": "ipython3",
   "version": "3.6.8"
  }
 },
 "nbformat": 4,
 "nbformat_minor": 2
}
