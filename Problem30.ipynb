{
 "cells": [
  {
   "cell_type": "code",
   "execution_count": null,
   "metadata": {},
   "outputs": [],
   "source": [
    "#Problem 30 Digit fifth powers"
   ]
  },
  {
   "cell_type": "code",
   "execution_count": 1,
   "metadata": {},
   "outputs": [
    {
     "data": {
      "text/plain": [
       "\"The sum of the digits' fifth powers is maximized when each digit is 9:\\n1 digit: 1 × 9 = 59049\\n2 digits: 2 × 9 = 118098\\n3 digits: 3 × 9 = 177147\\n4 digits: 4 × 9 = 236196\\n5 digits: 5 × 9 = 295245\\n6 digits: 6 × 9 = 354294\\n7 digits: 7 × 9 = 413343\\nThe last line is pretty interesting: it's impossible for a seven\\xaddigit number to have a seven\\xaddigit sum of its digits' fifth\\npowers,\\nbecause all those sums would have at most six digits.\""
      ]
     },
     "execution_count": 1,
     "metadata": {},
     "output_type": "execute_result"
    }
   ],
   "source": [
    "'''The sum of the digits' fifth powers is maximized when each digit is 9:\n",
    "1 digit: 1 × 9 = 59049\n",
    "2 digits: 2 × 9 = 118098\n",
    "3 digits: 3 × 9 = 177147\n",
    "4 digits: 4 × 9 = 236196\n",
    "5 digits: 5 × 9 = 295245\n",
    "6 digits: 6 × 9 = 354294\n",
    "7 digits: 7 × 9 = 413343\n",
    "The last line is pretty interesting: it's impossible for a seven­digit number to have a seven­digit sum of its digits' fifth\n",
    "powers,\n",
    "because all those sums would have at most six digits.'''"
   ]
  },
  {
   "cell_type": "code",
   "execution_count": 18,
   "metadata": {},
   "outputs": [
    {
     "name": "stdout",
     "output_type": "stream",
     "text": [
      "443840\n"
     ]
    }
   ],
   "source": [
    "def get5powersum(n):\n",
    "    b = 0\n",
    "    while(n>0):\n",
    "        a=n%10\n",
    "        n=n//10\n",
    "        b=b+a**5\n",
    "    return b\n",
    "\n",
    "validsum = 0\n",
    "for i in range(0,354295):\n",
    "    sum = get5powersum(i)\n",
    "    if sum == i:\n",
    "        validsum = validsum + sum\n",
    "    \n",
    "print(validsum)"
   ]
  },
  {
   "cell_type": "code",
   "execution_count": null,
   "metadata": {},
   "outputs": [],
   "source": []
  }
 ],
 "metadata": {
  "kernelspec": {
   "display_name": "Python 3",
   "language": "python",
   "name": "python3"
  },
  "language_info": {
   "codemirror_mode": {
    "name": "ipython",
    "version": 3
   },
   "file_extension": ".py",
   "mimetype": "text/x-python",
   "name": "python",
   "nbconvert_exporter": "python",
   "pygments_lexer": "ipython3",
   "version": "3.7.0"
  }
 },
 "nbformat": 4,
 "nbformat_minor": 2
}
