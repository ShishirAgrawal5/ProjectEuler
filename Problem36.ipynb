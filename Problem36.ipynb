{
 "cells": [
  {
   "cell_type": "code",
   "execution_count": 22,
   "id": "803f0f36",
   "metadata": {},
   "outputs": [],
   "source": [
    "sum = 0\n",
    "for i in range (1,1000001):\n",
    "    a = str(i)\n",
    "    b = bin(i)[2:]\n",
    "    if a == a[::-1] and b == b[::-1]:\n",
    "        sum = sum + i"
   ]
  },
  {
   "cell_type": "code",
   "execution_count": 23,
   "id": "98fac0b2",
   "metadata": {},
   "outputs": [
    {
     "data": {
      "text/plain": [
       "872187"
      ]
     },
     "execution_count": 23,
     "metadata": {},
     "output_type": "execute_result"
    }
   ],
   "source": [
    "sum"
   ]
  }
 ],
 "metadata": {
  "kernelspec": {
   "display_name": "Python 3 (ipykernel)",
   "language": "python",
   "name": "python3"
  },
  "language_info": {
   "codemirror_mode": {
    "name": "ipython",
    "version": 3
   },
   "file_extension": ".py",
   "mimetype": "text/x-python",
   "name": "python",
   "nbconvert_exporter": "python",
   "pygments_lexer": "ipython3",
   "version": "3.9.6"
  }
 },
 "nbformat": 4,
 "nbformat_minor": 5
}
