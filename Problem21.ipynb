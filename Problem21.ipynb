{
 "cells": [
  {
   "cell_type": "code",
   "execution_count": 79,
   "id": "3046d328",
   "metadata": {},
   "outputs": [],
   "source": [
    "def divGen(n):\n",
    "        for i in range(1, int(n/2 + 1)+1):\n",
    "            if n % i == 0:\n",
    "                yield i"
   ]
  },
  {
   "cell_type": "code",
   "execution_count": 80,
   "id": "e9b636ba",
   "metadata": {},
   "outputs": [],
   "source": [
    "def amicableCheck(a):    \n",
    "    for n in range (1,a):\n",
    "        x = sum(list(divGen(n)))\n",
    "        y = sum(list(divGen(x)))\n",
    "\n",
    "        if y==n and x!=y:\n",
    "            yield n"
   ]
  },
  {
   "cell_type": "code",
   "execution_count": 81,
   "id": "2bee2be5",
   "metadata": {},
   "outputs": [],
   "source": [
    "sumA = sum(list(amicableCheck(10000)))"
   ]
  },
  {
   "cell_type": "code",
   "execution_count": 82,
   "id": "dc236f29",
   "metadata": {},
   "outputs": [
    {
     "name": "stdout",
     "output_type": "stream",
     "text": [
      "31626\n"
     ]
    }
   ],
   "source": [
    "print(sumA)"
   ]
  }
 ],
 "metadata": {
  "kernelspec": {
   "display_name": "Python 3 (ipykernel)",
   "language": "python",
   "name": "python3"
  },
  "language_info": {
   "codemirror_mode": {
    "name": "ipython",
    "version": 3
   },
   "file_extension": ".py",
   "mimetype": "text/x-python",
   "name": "python",
   "nbconvert_exporter": "python",
   "pygments_lexer": "ipython3",
   "version": "3.9.6"
  }
 },
 "nbformat": 4,
 "nbformat_minor": 5
}
