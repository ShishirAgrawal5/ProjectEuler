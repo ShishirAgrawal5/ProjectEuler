{
 "cells": [
  {
   "cell_type": "code",
   "execution_count": 57,
   "id": "215d8c18",
   "metadata": {},
   "outputs": [],
   "source": [
    "def number_of_digits_including_nth_number(n):\n",
    "    if n<10:\n",
    "        return n\n",
    "    elif n>=10 and n<100:\n",
    "        a = n%10\n",
    "        return 9+(2*(n-9))\n",
    "    elif n>=100 and n<1000:\n",
    "        a = n%10\n",
    "        return 9+(2*90)+(3*(n-99))\n",
    "    elif n>=1000 and n<10000:\n",
    "        a = n%10\n",
    "        return 9+(2*90)+(3*900)+(4*(n-999))\n",
    "    elif n>=10000 and n<100000:\n",
    "        a = n%10\n",
    "        return 9+(2*90)+(3*900)+(4*9000)+(5*(n-9999))\n",
    "    elif n>=100000 and n<1000000:\n",
    "        a = n%10\n",
    "        return 9+(2*90)+(3*900)+(4*9000)+(5*90000)+(6*(n-99999))\n",
    "        "
   ]
  },
  {
   "cell_type": "code",
   "execution_count": 74,
   "id": "1c829eee",
   "metadata": {},
   "outputs": [],
   "source": [
    "x = number_of_digits_including_nth_number(250000)"
   ]
  },
  {
   "cell_type": "code",
   "execution_count": 95,
   "id": "41bad6d8",
   "metadata": {},
   "outputs": [],
   "source": [
    "def justAbove(total_digits_floor):\n",
    "    for i in range(250000):\n",
    "        x = number_of_digits_including_nth_number(i)\n",
    "        if x>total_digits_floor:\n",
    "            return i,x"
   ]
  },
  {
   "cell_type": "code",
   "execution_count": 129,
   "id": "14922797",
   "metadata": {},
   "outputs": [],
   "source": [
    "last_number_greater,total_digits = justAbove(10)"
   ]
  },
  {
   "cell_type": "code",
   "execution_count": 130,
   "id": "d9c4777e",
   "metadata": {},
   "outputs": [
    {
     "data": {
      "text/plain": [
       "10"
      ]
     },
     "execution_count": 130,
     "metadata": {},
     "output_type": "execute_result"
    }
   ],
   "source": [
    "last_number_greater"
   ]
  },
  {
   "cell_type": "code",
   "execution_count": 131,
   "id": "2358b2b7",
   "metadata": {},
   "outputs": [
    {
     "data": {
      "text/plain": [
       "11"
      ]
     },
     "execution_count": 131,
     "metadata": {},
     "output_type": "execute_result"
    }
   ],
   "source": [
    "total_digits"
   ]
  },
  {
   "cell_type": "code",
   "execution_count": 132,
   "id": "d6ae711a",
   "metadata": {},
   "outputs": [
    {
     "data": {
      "text/plain": [
       "210"
      ]
     },
     "execution_count": 132,
     "metadata": {},
     "output_type": "execute_result"
    }
   ],
   "source": [
    "1*1*5*3*7*2*1"
   ]
  }
 ],
 "metadata": {
  "kernelspec": {
   "display_name": "Python 3 (ipykernel)",
   "language": "python",
   "name": "python3"
  },
  "language_info": {
   "codemirror_mode": {
    "name": "ipython",
    "version": 3
   },
   "file_extension": ".py",
   "mimetype": "text/x-python",
   "name": "python",
   "nbconvert_exporter": "python",
   "pygments_lexer": "ipython3",
   "version": "3.9.6"
  }
 },
 "nbformat": 4,
 "nbformat_minor": 5
}
