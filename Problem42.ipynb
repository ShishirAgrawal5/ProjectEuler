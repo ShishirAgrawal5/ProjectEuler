{
 "cells": [
  {
   "cell_type": "code",
   "execution_count": 27,
   "id": "6973c831",
   "metadata": {},
   "outputs": [],
   "source": [
    "import re"
   ]
  },
  {
   "cell_type": "code",
   "execution_count": 28,
   "id": "f5238b45",
   "metadata": {},
   "outputs": [],
   "source": [
    "file = open(\"WordsProblem42.txt\",\"r\")\n",
    "x = file.read()\n",
    "file.close()"
   ]
  },
  {
   "cell_type": "code",
   "execution_count": 29,
   "id": "e3e1c6aa",
   "metadata": {},
   "outputs": [],
   "source": [
    "alphabets = ['A','B','C','D','E','F','G','H','I','J','K','L','M','N','O','P','Q','R','S','T','U','V','W','X','Y','Z']\n",
    "numbers = [1,2,3,4,5,6,7,8,9,10,11,12,13,14,15,16,17,18,19,20,21,22,23,24,25,26]"
   ]
  },
  {
   "cell_type": "code",
   "execution_count": 30,
   "id": "6679ded0",
   "metadata": {},
   "outputs": [],
   "source": [
    "AlpToNumDict = {i:j for i,j in zip(alphabets,numbers)}"
   ]
  },
  {
   "cell_type": "code",
   "execution_count": 31,
   "id": "ae46d620",
   "metadata": {},
   "outputs": [],
   "source": [
    "wordsList = []\n",
    "\n",
    "for i in re.finditer('([a-zA-Z]+)',x):\n",
    "    wordsList.append(i.group())"
   ]
  },
  {
   "cell_type": "code",
   "execution_count": 32,
   "id": "77802af4",
   "metadata": {},
   "outputs": [],
   "source": [
    "triangleList1000=[]\n",
    "for i in range(1000):\n",
    "    sum = i*(i+1)*(0.5)\n",
    "    triangleList1000.append(sum)"
   ]
  },
  {
   "cell_type": "code",
   "execution_count": 38,
   "id": "fe798b8e",
   "metadata": {},
   "outputs": [],
   "source": [
    "def isTriangleWord(word):\n",
    "    sum = 0\n",
    "    for i in word:\n",
    "        sum = sum + AlpToNumDict[i]\n",
    "    if sum in triangleList1000:\n",
    "        return \"Yes\"\n",
    "    else:\n",
    "        return \"No\"    "
   ]
  },
  {
   "cell_type": "code",
   "execution_count": 39,
   "id": "d3b1e05f",
   "metadata": {},
   "outputs": [],
   "source": [
    "triangleWordOrNot = []\n",
    "for i in wordsList:\n",
    "    triangleWordOrNot.append(isTriangleWord(i))"
   ]
  },
  {
   "cell_type": "code",
   "execution_count": 42,
   "id": "fe1f9073",
   "metadata": {},
   "outputs": [
    {
     "data": {
      "text/plain": [
       "162"
      ]
     },
     "execution_count": 42,
     "metadata": {},
     "output_type": "execute_result"
    }
   ],
   "source": [
    "triangleWordOrNot.count(\"Yes\")"
   ]
  }
 ],
 "metadata": {
  "kernelspec": {
   "display_name": "Python 3 (ipykernel)",
   "language": "python",
   "name": "python3"
  },
  "language_info": {
   "codemirror_mode": {
    "name": "ipython",
    "version": 3
   },
   "file_extension": ".py",
   "mimetype": "text/x-python",
   "name": "python",
   "nbconvert_exporter": "python",
   "pygments_lexer": "ipython3",
   "version": "3.9.6"
  }
 },
 "nbformat": 4,
 "nbformat_minor": 5
}
