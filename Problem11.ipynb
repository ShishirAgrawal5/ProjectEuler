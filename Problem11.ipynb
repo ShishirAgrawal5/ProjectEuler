{
 "cells": [
  {
   "cell_type": "code",
   "execution_count": 1,
   "metadata": {},
   "outputs": [],
   "source": [
    "#Problem 11 - Largest product in a grid"
   ]
  },
  {
   "cell_type": "code",
   "execution_count": 54,
   "metadata": {},
   "outputs": [
    {
     "name": "stdout",
     "output_type": "stream",
     "text": [
      "70600674\n"
     ]
    }
   ],
   "source": [
    "myArray = []\n",
    "textFile = open(\"twoDimensionalArray.txt\")\n",
    "lines = textFile.readlines()\n",
    "for line in lines:\n",
    "    myArray.append(line.split())\n",
    "c=[]\n",
    "a=0\n",
    "b=0\n",
    "ce=0\n",
    "d=0\n",
    "f=0\n",
    "g=0\n",
    "maxi=0\n",
    "for i in range(20):\n",
    "    for j in range(20):\n",
    "        if(i>2):\n",
    "            a= int(myArray[i][j])*int(myArray[i-1][j])*int(myArray[i-2][j])*int(myArray[i-3][j])\n",
    "            c.append(a)\n",
    "        if maxi<a:\n",
    "            maxi=a\n",
    "        if(j>2):\n",
    "            b= int(myArray[i][j])*int(myArray[i][j-1])*int(myArray[i][j-2])*int(myArray[i][j-3])\n",
    "            c.append(b)\n",
    "        if maxi<b:\n",
    "            maxi=b\n",
    "        if(i<17):\n",
    "            ce= int(myArray[i][j])*int(myArray[i+1][j])*int(myArray[i+2][j])*int(myArray[i+3][j])\n",
    "            c.append(ce)\n",
    "        if maxi<ce:\n",
    "            maxi=ce\n",
    "        if(j<17):\n",
    "            d= int(myArray[i][j])*int(myArray[i][j+1])*int(myArray[i][j+2])*int(myArray[i][j+3])\n",
    "            c.append(d)\n",
    "        if maxi<d:\n",
    "            maxi=d\n",
    "        if(i<17 and j<17) :\n",
    "            f= int(myArray[i][j])*int(myArray[i+1][j+1])*int(myArray[i+2][j+2])*int(myArray[i+3][j+3])\n",
    "            c.append(f)\n",
    "        if maxi<f:\n",
    "            maxi=f\n",
    "        if(i<17 and j>2) :\n",
    "            g= int(myArray[i][j])*int(myArray[i+1][j-1])*int(myArray[i+2][j-2])*int(myArray[i+3][j-3])\n",
    "            c.append(g)\n",
    "        if maxi<g:\n",
    "            maxi=g\n",
    "print(maxi)\n"
   ]
  },
  {
   "cell_type": "code",
   "execution_count": null,
   "metadata": {},
   "outputs": [],
   "source": []
  }
 ],
 "metadata": {
  "kernelspec": {
   "display_name": "Python 3",
   "language": "python",
   "name": "python3"
  },
  "language_info": {
   "codemirror_mode": {
    "name": "ipython",
    "version": 3
   },
   "file_extension": ".py",
   "mimetype": "text/x-python",
   "name": "python",
   "nbconvert_exporter": "python",
   "pygments_lexer": "ipython3",
   "version": "3.7.0"
  }
 },
 "nbformat": 4,
 "nbformat_minor": 2
}
