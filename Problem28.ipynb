{
 "cells": [
  {
   "cell_type": "code",
   "execution_count": 1,
   "metadata": {},
   "outputs": [],
   "source": [
    "#Problem 28 Number spiral diagonals"
   ]
  },
  {
   "cell_type": "code",
   "execution_count": 34,
   "metadata": {},
   "outputs": [
    {
     "name": "stdout",
     "output_type": "stream",
     "text": [
      "669171001\n"
     ]
    }
   ],
   "source": [
    "def printSpiral(n) : \n",
    "    sum = 0\n",
    "    spiral=[[0 for row in range(0,1001)] for col in range(0,1001)]\n",
    "    for i in range(0, n) : \n",
    "        for j in range(0, n) : \n",
    "              \n",
    "            x = min(min(i, j), min(n - 1 - i, n - 1 - j)) \n",
    "              \n",
    "            if (i <= j) : \n",
    "                spiral[i][j] = (n - 2 * x) * (n - 2 * x) -(i - x)- (j - x) \n",
    "  \n",
    "            else : \n",
    "                spiral[i][j] = ((n - 2 * x - 2) *(n - 2 * x - 2) +(i - x) + (j - x))\n",
    "        \n",
    "    for l in range (n):\n",
    "        sum = sum + spiral[l][l]\n",
    "        sum = sum + spiral[l][n-1-l]\n",
    "    print(sum- spiral[500][500])     \n",
    "\n",
    "n = 1001 \n",
    "printSpiral(n)"
   ]
  }
 ],
 "metadata": {
  "kernelspec": {
   "display_name": "Python 3",
   "language": "python",
   "name": "python3"
  },
  "language_info": {
   "codemirror_mode": {
    "name": "ipython",
    "version": 3
   },
   "file_extension": ".py",
   "mimetype": "text/x-python",
   "name": "python",
   "nbconvert_exporter": "python",
   "pygments_lexer": "ipython3",
   "version": "3.7.0"
  }
 },
 "nbformat": 4,
 "nbformat_minor": 2
}
