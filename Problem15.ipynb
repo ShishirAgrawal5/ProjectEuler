{
 "cells": [
  {
   "cell_type": "code",
   "execution_count": 12,
   "id": "ea41a8c9",
   "metadata": {},
   "outputs": [],
   "source": [
    "def factorial(n):\n",
    "    x =1\n",
    "    for i in range (1,n+1):\n",
    "        x = x * i\n",
    "    return x"
   ]
  },
  {
   "cell_type": "code",
   "execution_count": 22,
   "id": "38545b21",
   "metadata": {},
   "outputs": [],
   "source": [
    "sides = 20\n",
    "paths = factorial(2*sides)/((factorial(sides))*(factorial(sides)))"
   ]
  },
  {
   "cell_type": "code",
   "execution_count": 23,
   "id": "3ae6ce2a",
   "metadata": {},
   "outputs": [
    {
     "name": "stdout",
     "output_type": "stream",
     "text": [
      "137846528820.000000\n"
     ]
    }
   ],
   "source": [
    "print('{:f}'.format(paths))"
   ]
  }
 ],
 "metadata": {
  "kernelspec": {
   "display_name": "Python 3 (ipykernel)",
   "language": "python",
   "name": "python3"
  },
  "language_info": {
   "codemirror_mode": {
    "name": "ipython",
    "version": 3
   },
   "file_extension": ".py",
   "mimetype": "text/x-python",
   "name": "python",
   "nbconvert_exporter": "python",
   "pygments_lexer": "ipython3",
   "version": "3.9.6"
  }
 },
 "nbformat": 4,
 "nbformat_minor": 5
}
