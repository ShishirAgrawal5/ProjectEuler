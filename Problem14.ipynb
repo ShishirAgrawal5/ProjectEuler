{
 "cells": [
  {
   "cell_type": "code",
   "execution_count": null,
   "metadata": {
    "scrolled": false
   },
   "outputs": [],
   "source": [
    "#Problem 14 - Longest Collatz sequence"
   ]
  },
  {
   "cell_type": "code",
   "execution_count": 23,
   "metadata": {},
   "outputs": [
    {
     "name": "stdout",
     "output_type": "stream",
     "text": [
      "524 837799\n"
     ]
    }
   ],
   "source": [
    "def collatz(number):\n",
    "\n",
    "    if number % 2 == 0:\n",
    "        return number // 2\n",
    "\n",
    "    elif number % 2 == 1:\n",
    "        result = 3 * number + 1\n",
    "        return result\n",
    "\n",
    "maxim=0\n",
    "for n in range(1,1000001):\n",
    "    count = 0\n",
    "    numberb = n\n",
    "    while n != 1:\n",
    "        n = collatz(int(n))\n",
    "        count = count+1\n",
    "        if count>maxim:\n",
    "            maxim = count\n",
    "            maxnumber = numberb\n",
    "            \n",
    "print(maxim,maxnumber)"
   ]
  },
  {
   "cell_type": "code",
   "execution_count": null,
   "metadata": {},
   "outputs": [],
   "source": []
  }
 ],
 "metadata": {
  "kernelspec": {
   "display_name": "Python 3",
   "language": "python",
   "name": "python3"
  },
  "language_info": {
   "codemirror_mode": {
    "name": "ipython",
    "version": 3
   },
   "file_extension": ".py",
   "mimetype": "text/x-python",
   "name": "python",
   "nbconvert_exporter": "python",
   "pygments_lexer": "ipython3",
   "version": "3.7.0"
  }
 },
 "nbformat": 4,
 "nbformat_minor": 2
}
