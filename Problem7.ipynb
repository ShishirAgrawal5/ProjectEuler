{
 "cells": [
  {
   "cell_type": "code",
   "execution_count": 1,
   "metadata": {},
   "outputs": [],
   "source": [
    "#Problem7 10001st Prime number"
   ]
  },
  {
   "cell_type": "code",
   "execution_count": 12,
   "metadata": {},
   "outputs": [
    {
     "name": "stdout",
     "output_type": "stream",
     "text": [
      "104743\n"
     ]
    }
   ],
   "source": [
    "'''def checkPrime(number):\n",
    "    for i in range (3,number-1):\n",
    "        if number%i==0:\n",
    "            return False\n",
    "        else:\n",
    "            continue\n",
    "    return True\n",
    "\n",
    "a= 0\n",
    "number = 3\n",
    "prime = 0\n",
    "while a<10002:\n",
    "    number= number + 2\n",
    "    if checkPrime(number) == True:\n",
    "        a= a+1\n",
    "        prime = number\n",
    "    else :\n",
    "        continue\n",
    "print(prime)'''\n",
    "\n",
    "\n",
    "    #BETTER SOLUTION\n",
    "def nth_prime_number(n):\n",
    "    if n==1:\n",
    "        return 2\n",
    "    count = 1\n",
    "    num = 1\n",
    "    while(count < n):\n",
    "        num +=2 #optimization\n",
    "        if is_prime(num):\n",
    "            count +=1\n",
    "    return num\n",
    "\n",
    "def is_prime(num):\n",
    "    factor = 2\n",
    "    while (factor * factor <= num):\n",
    "        if num % factor == 0:\n",
    "             return False\n",
    "        factor +=1\n",
    "    return True\n",
    "\n",
    "print(nth_prime_number(10001))"
   ]
  },
  {
   "cell_type": "code",
   "execution_count": null,
   "metadata": {},
   "outputs": [],
   "source": []
  }
 ],
 "metadata": {
  "kernelspec": {
   "display_name": "Python 3",
   "language": "python",
   "name": "python3"
  },
  "language_info": {
   "codemirror_mode": {
    "name": "ipython",
    "version": 3
   },
   "file_extension": ".py",
   "mimetype": "text/x-python",
   "name": "python",
   "nbconvert_exporter": "python",
   "pygments_lexer": "ipython3",
   "version": "3.7.0"
  }
 },
 "nbformat": 4,
 "nbformat_minor": 2
}
